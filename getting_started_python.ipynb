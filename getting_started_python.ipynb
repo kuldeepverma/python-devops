{
  "nbformat": 4,
  "nbformat_minor": 0,
  "metadata": {
    "colab": {
      "provenance": [],
      "authorship_tag": "ABX9TyOAsBNnsI6p+5pzo1vXUo40",
      "include_colab_link": true
    },
    "kernelspec": {
      "name": "python3",
      "display_name": "Python 3"
    },
    "language_info": {
      "name": "python"
    }
  },
  "cells": [
    {
      "cell_type": "markdown",
      "metadata": {
        "id": "view-in-github",
        "colab_type": "text"
      },
      "source": [
        "<a href=\"https://colab.research.google.com/github/kuldeepverma/python-devops/blob/main/getting_started_python.ipynb\" target=\"_parent\"><img src=\"https://colab.research.google.com/assets/colab-badge.svg\" alt=\"Open In Colab\"/></a>"
      ]
    },
    {
      "cell_type": "code",
      "execution_count": 2,
      "metadata": {
        "id": "aqmXaUAm80hL",
        "outputId": "09330176-903f-415c-c8c3-fcad5b1eaa39",
        "colab": {
          "base_uri": "https://localhost:8080/"
        }
      },
      "outputs": [
        {
          "output_type": "stream",
          "name": "stdout",
          "text": [
            "hello world\n"
          ]
        }
      ],
      "source": [
        "print(\"hello world\")"
      ]
    },
    {
      "cell_type": "markdown",
      "source": [
        "# Use variables"
      ],
      "metadata": {
        "id": "pweQqdQy_GaM"
      }
    },
    {
      "cell_type": "code",
      "source": [
        "name = \"kuldeep\"\n",
        "print(name)"
      ],
      "metadata": {
        "id": "Qp00x0Sr_Y1A",
        "outputId": "3295ff1e-4df8-4e10-f928-ef9889401a8d",
        "colab": {
          "base_uri": "https://localhost:8080/"
        }
      },
      "execution_count": 4,
      "outputs": [
        {
          "output_type": "stream",
          "name": "stdout",
          "text": [
            "kuldeep\n"
          ]
        }
      ]
    }
  ]
}